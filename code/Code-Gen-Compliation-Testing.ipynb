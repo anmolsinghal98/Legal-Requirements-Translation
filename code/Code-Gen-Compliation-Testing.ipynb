{
 "cells": [
  {
   "cell_type": "markdown",
   "metadata": {},
   "source": [
    "This notebook provides the code to run the compilability test for a given test file. The code checks if the generated code can execute without the Python interpreter throwing any compilation errors. "
   ]
  },
  {
   "cell_type": "code",
   "execution_count": 1,
   "metadata": {},
   "outputs": [],
   "source": [
    "import csv"
   ]
  },
  {
   "cell_type": "markdown",
   "metadata": {},
   "source": [
    "# Loading Test File"
   ]
  },
  {
   "cell_type": "code",
   "execution_count": 2,
   "metadata": {},
   "outputs": [],
   "source": [
    "# specify the path to the CSV file containing the test data\n",
    "test_file = 'path/to/your/test_data.csv'  # Update this path to your CSV file with the test set predictions\n",
    "\n",
    "# specify the setting: 'K-Fold' or 'OOD'\n",
    "setting = 'OOD' # 'K-Fold' or 'OOD'\n",
    "\n",
    "if not test_file:\n",
    "    raise ValueError(\"Please specify the path to the test CSV file.\")\n",
    "if setting not in ['K-Fold', 'OOD']:\n",
    "    raise ValueError(\"Setting must be either 'K-Fold' or 'OOD'.\")\n",
    "\n",
    "# read the CSV file and extract the relevant data\n",
    "data = []\n",
    "with open(test_file, 'r') as f:\n",
    "    reader = csv.reader(f)\n",
    "    next(reader)\n",
    "    for row in reader:\n",
    "        if len(row) < 2:\n",
    "            print(f\"Skipping row with insufficient data: {row}\")\n",
    "            continue\n",
    "        if setting == 'K-Fold' and len(row) < 3:\n",
    "            print(f\"Skipping row with insufficient data for K-Fold: {row}\")\n",
    "            continue\n",
    "        # Depending on the setting, extract the appropriate columns\n",
    "        # For K-Fold, we expect three columns: text, ground truth code, generated code\n",
    "        # For OOD, we expect two columns: text, generated code\n",
    "        if setting == 'K-Fold':\n",
    "            data = {'text': row[0], 'ground truth code': row[1], 'generated code': row[2]}\n",
    "        elif setting == 'OOD':\n",
    "            data.append({'text': row[0], 'generated code': row[1]})"
   ]
  },
  {
   "cell_type": "markdown",
   "metadata": {},
   "source": [
    "# Compilability Test"
   ]
  },
  {
   "cell_type": "code",
   "execution_count": 3,
   "metadata": {},
   "outputs": [
    {
     "name": "stdout",
     "output_type": "stream",
     "text": [
      "Generated code for segment 1 is a valid python code\n",
      "\n",
      "\n",
      "Generated code for segment 2 is a valid python code\n",
      "\n",
      "\n",
      "Generated code for segment 3 is a valid python code\n",
      "\n",
      "\n",
      "Generated code for segment 4 is a valid python code\n",
      "\n",
      "\n",
      "Generated code for segment 5 is a valid python code\n",
      "\n",
      "\n",
      "Generated code for segment 6 is a valid python code\n",
      "\n",
      "\n",
      "Generated code for segment 7 is a valid python code\n",
      "\n",
      "\n",
      "Generated code for segment 8 is a valid python code\n",
      "\n",
      "\n",
      "Generated code for segment 9 is a valid python code\n",
      "\n",
      "\n",
      "Number of valid code segments: 9\n",
      "Total segments checked: 9\n",
      "Percentage of valid code segments: 100.00%\n"
     ]
    }
   ],
   "source": [
    "from class_structure import *\n",
    "\n",
    "# Check whether the generated code is a valid python code\n",
    "def is_valid_python_code(code):\n",
    "    try:\n",
    "        code_object = compile(code, '<string>', 'exec')\n",
    "        exec(code_object)\n",
    "        return True\n",
    "    except (SyntaxError, Exception):\n",
    "        return False\n",
    "    \n",
    "def preprocess_code(code):\n",
    "    # Remove the code block markers if they exist\n",
    "    if code.startswith(\"```python\"):\n",
    "        code = code[9:].strip()\n",
    "    elif code.startswith(\"```\"):\n",
    "        code = code[3:].strip()\n",
    "    \n",
    "    # Remove any trailing backticks\n",
    "    if code.endswith(\"```\"):\n",
    "        code = code[:-3].strip()\n",
    "    \n",
    "    return code\n",
    "\n",
    "# Call the function for each element in data to check whether the generated code is a valid python code\n",
    "def check_valid_python_code(data):\n",
    "    segments = len(data)\n",
    "    count = 0 # to keep track of the number of valid code segments\n",
    "    for i in range(segments):\n",
    "        code = data[i]['generated code']\n",
    "        if not code:\n",
    "            print(f\"No generated code found for segment {i+1}\")\n",
    "            continue\n",
    "        # Preprocess the code to remove any unnecessary formatting\n",
    "        code = preprocess_code(code)\n",
    "\n",
    "        # Check if the preprocessed code is valid Python code\n",
    "        if not is_valid_python_code(code):\n",
    "            print(f\"Generated code for segment {i+1} is not a valid python code\")\n",
    "            print(\"\\n\")\n",
    "        else:\n",
    "            print(f\"Generated code for segment {i+1} is a valid python code\")\n",
    "            count += 1\n",
    "            print(\"\\n\")\n",
    "    return count\n",
    "\n",
    "# Call the function to check whether the generated code is a valid python code\n",
    "valid_code = check_valid_python_code(data)\n",
    "\n",
    "print(f\"Number of valid code segments: {valid_code}\")\n",
    "print(f\"Total segments checked: {len(data)}\")\n",
    "print(f\"Percentage of valid code segments: {valid_code / len(data) * 100:.2f}%\")\n"
   ]
  },
  {
   "cell_type": "code",
   "execution_count": null,
   "metadata": {},
   "outputs": [],
   "source": []
  }
 ],
 "metadata": {
  "kernelspec": {
   "display_name": "venv",
   "language": "python",
   "name": "python3"
  },
  "language_info": {
   "codemirror_mode": {
    "name": "ipython",
    "version": 3
   },
   "file_extension": ".py",
   "mimetype": "text/x-python",
   "name": "python",
   "nbconvert_exporter": "python",
   "pygments_lexer": "ipython3",
   "version": "3.12.7"
  }
 },
 "nbformat": 4,
 "nbformat_minor": 2
}
