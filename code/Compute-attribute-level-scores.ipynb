{
 "cells": [
  {
   "cell_type": "markdown",
   "id": "4fb2d78d",
   "metadata": {},
   "source": [
    "This notebook provides the code to compute attribute-level scores for the dataset "
   ]
  },
  {
   "cell_type": "code",
   "execution_count": null,
   "id": "a1e8aa95",
   "metadata": {},
   "outputs": [],
   "source": [
    "import pandas as pd"
   ]
  },
  {
   "cell_type": "code",
   "execution_count": null,
   "id": "85821862",
   "metadata": {},
   "outputs": [],
   "source": [
    "# compute average attribute scores for each attribute in the list of dataframes\n",
    "\n",
    "import numpy as np\n",
    "\n",
    "def calculate_average_attribute_scores(list_df):\n",
    "    attributes = list_df[0].columns\n",
    "\n",
    "    result_dic = {}\n",
    "    for attribute in attributes:\n",
    "        scores = []\n",
    "        for df in list_df:\n",
    "            accuracy = df[attribute].iloc[0]\n",
    "            recall = df[attribute].iloc[1]\n",
    "            precision = df[attribute].iloc[2]\n",
    "            scores.append([accuracy, recall, precision])\n",
    "        scores = np.array(scores)\n",
    "        average_scores = np.mean(scores, axis=0)\n",
    "        result_dic[attribute] = average_scores\n",
    "\n",
    "    return result_dic"
   ]
  },
  {
   "cell_type": "code",
   "execution_count": null,
   "id": "e75462c5",
   "metadata": {},
   "outputs": [],
   "source": [
    "# Specify the paths to your CSV files\n",
    "df1= pd.read_csv('path_to_first_dataframe.csv')\n",
    "df2 = pd.read_csv('path_to_second_dataframe.csv')\n",
    "\n",
    "# Assuming the CSV files have the same structure, concatenate them into a list\n",
    "df_list = [df1, df2]\n",
    "\n",
    "# Calculate average scores for each attribute across the dataframes\n",
    "average_scores = calculate_average_attribute_scores(df_list)     \n",
    "\n",
    "# Print the average scores\n",
    "for key, value in average_scores.items():\n",
    "    print(key, value)"
   ]
  }
 ],
 "metadata": {
  "kernelspec": {
   "display_name": "base",
   "language": "python",
   "name": "python3"
  },
  "language_info": {
   "name": "python",
   "version": "3.12.7"
  }
 },
 "nbformat": 4,
 "nbformat_minor": 5
}
